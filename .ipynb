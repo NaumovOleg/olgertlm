from sagemaker.tensorflow import TensorFlow
from sagemaker import get_execution_role

role = get_execution_role()

estimator = TensorFlow(
    entry_point="train.py",
    source_dir="olgertlm",
    dependencies=["requirements.txt"],
    role=role,
    instance_count=1,
    instance_type="ml.g4dn.xlarge",
    framework_version="2.19.0",
    py_version="3.11.11",
    script_mode=True,
    output_path="s3://sagemaker-olgertlm/output",
    hyperparameters={
        "DATA_PATH": "datasets/big.txt",
        "MAXLEN": 20,
        "NUM_LAYERS": 2,
        "EMBED_DIM": 64,
        "NUM_HEADS": 4,
        "FF_DIM": 128,
        "EPOCHS": 500,
        "BATCH_SIZE": 4,
        "LOCAL_CHECKPOINT_DIR": "./checkpoints",
        "SAVED_MODEL_PATH": "./saved",
        "SAVED_MODEL_PATH_FULL": "/opt/ml/model/gpt.weights.keras",
    },
)

estimator.fit()
