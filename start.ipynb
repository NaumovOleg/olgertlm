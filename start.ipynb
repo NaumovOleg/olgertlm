from sagemaker.tensorflow import TensorFlow
from sagemaker import get_execution_role

role = get_execution_role()

estimator = TensorFlow(
    entry_point="train.py",
    source_dir=".",
    dependencies=["requirements.txt"],
    role=role,
    instance_count=1,
    instance_type="ml.m4.xlarge",
    framework_version="2.18.0",
    py_version="py310",
    script_mode=True,
    output_path="s3://sagemaker-olgertlm/output",
    hyperparameters={
        "DATA_PATH": "./datasets/big.txt",
        "MAXLEN": 20,
        "NUM_LAYERS": 2,
        "EMBED_DIM": 64,
        "NUM_HEADS": 4,
        "FF_DIM": 128,
        "EPOCHS": 500,
        "BATCH_SIZE": 4,
        "CHECKPOINT_DIR" : "./artifacts/model/checkpoints",
        "SAVE_CHECKPOINT_DIR" : "/opt/ml/model/artifacts/model/checkpoints",
        "MODEL_DIR" : "./artifacts/model",
        "SAVED_MODEL_DIR" : "/opt/ml/model/artifacts/model",
        "TOKENIZER_DIR" : "./artifacts/tokenizer",
        "SAVE_TOKENIZER_DIR" : "/opt/ml/modelartifacts/tokenizer",
        "IS_SAGEMAKER" : "true",
    },
)

estimator.fit()
